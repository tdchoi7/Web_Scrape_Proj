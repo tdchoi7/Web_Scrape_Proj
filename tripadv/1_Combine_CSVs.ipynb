{
 "cells": [
  {
   "cell_type": "code",
   "execution_count": 18,
   "metadata": {},
   "outputs": [],
   "source": [
    "import pandas as pd"
   ]
  },
  {
   "cell_type": "markdown",
   "metadata": {},
   "source": [
    "- Scraped 9/11 Memorial and Central Park separately because there were too many missing rows or the attraction name and city were not scraped (most likely due to internet connectivity or computer capacity considering all other attractions were scraped properly)"
   ]
  },
  {
   "cell_type": "code",
   "execution_count": 19,
   "metadata": {},
   "outputs": [],
   "source": [
    "tripadv_ny_911_cp=pd.read_csv('tripadv_911_cp.csv')\n",
    "tripadv_ny_911_cp.columns = ['Attraction', \n",
    "                   'City', \n",
    "                   'Posted', \n",
    "                   'Visited', \n",
    "                   'User_Reviews', \n",
    "                   'User_Helpful', \n",
    "                   'Review_Helpful', \n",
    "                   'Rating', \n",
    "                   'Text', \n",
    "                   'Title', \n",
    "                   'Username', \n",
    "                   'User_Location']"
   ]
  },
  {
   "cell_type": "code",
   "execution_count": 20,
   "metadata": {},
   "outputs": [],
   "source": [
    "tripadv=pd.read_csv('tripadv_.csv')\n",
    "tripadv.columns = ['Attraction', \n",
    "                   'City', \n",
    "                   'Posted', \n",
    "                   'Visited', \n",
    "                   'User_Reviews', \n",
    "                   'User_Helpful',\n",
    "                   'Review_Helpful', \n",
    "                   'Rating', \n",
    "                   'Text', \n",
    "                   'Title', \n",
    "                   'Username', \n",
    "                   'User_Location']"
   ]
  },
  {
   "cell_type": "code",
   "execution_count": 21,
   "metadata": {},
   "outputs": [
    {
     "data": {
      "text/html": [
       "<div>\n",
       "<style scoped>\n",
       "    .dataframe tbody tr th:only-of-type {\n",
       "        vertical-align: middle;\n",
       "    }\n",
       "\n",
       "    .dataframe tbody tr th {\n",
       "        vertical-align: top;\n",
       "    }\n",
       "\n",
       "    .dataframe thead th {\n",
       "        text-align: right;\n",
       "    }\n",
       "</style>\n",
       "<table border=\"1\" class=\"dataframe\">\n",
       "  <thead>\n",
       "    <tr style=\"text-align: right;\">\n",
       "      <th></th>\n",
       "      <th>Attraction</th>\n",
       "      <th>City</th>\n",
       "      <th>Posted</th>\n",
       "      <th>Visited</th>\n",
       "      <th>User_Reviews</th>\n",
       "      <th>User_Helpful</th>\n",
       "      <th>Review_Helpful</th>\n",
       "      <th>Rating</th>\n",
       "      <th>Text</th>\n",
       "      <th>Title</th>\n",
       "      <th>Username</th>\n",
       "      <th>User_Location</th>\n",
       "    </tr>\n",
       "  </thead>\n",
       "  <tbody>\n",
       "    <tr>\n",
       "      <th>5979</th>\n",
       "      <td>NaN</td>\n",
       "      <td>0</td>\n",
       "      <td>19-Sep</td>\n",
       "      <td>19-Sep</td>\n",
       "      <td>298</td>\n",
       "      <td>25</td>\n",
       "      <td>0</td>\n",
       "      <td>5</td>\n",
       "      <td>Genuinely peaceful and a great break away from...</td>\n",
       "      <td>An Oasis in the middle of the city</td>\n",
       "      <td>Peter D</td>\n",
       "      <td>Ledbury, United Kingdom</td>\n",
       "    </tr>\n",
       "    <tr>\n",
       "      <th>5981</th>\n",
       "      <td>NaN</td>\n",
       "      <td>0</td>\n",
       "      <td>19-Sep</td>\n",
       "      <td>19-Sep</td>\n",
       "      <td>282</td>\n",
       "      <td>85</td>\n",
       "      <td>1</td>\n",
       "      <td>5</td>\n",
       "      <td>Lovely wander through the park. Little league ...</td>\n",
       "      <td>True New York</td>\n",
       "      <td>Pippasmum_12</td>\n",
       "      <td>Bournemouth, England, United Kingdom</td>\n",
       "    </tr>\n",
       "    <tr>\n",
       "      <th>5982</th>\n",
       "      <td>NaN</td>\n",
       "      <td>0</td>\n",
       "      <td>19-Sep</td>\n",
       "      <td>19-Sep</td>\n",
       "      <td>635</td>\n",
       "      <td>213</td>\n",
       "      <td>0</td>\n",
       "      <td>5</td>\n",
       "      <td>On a nice day you can't go wrong with a visit ...</td>\n",
       "      <td>lovely</td>\n",
       "      <td>steven_wilkinson</td>\n",
       "      <td>Bury St. Edmunds, United Kingdom</td>\n",
       "    </tr>\n",
       "    <tr>\n",
       "      <th>5983</th>\n",
       "      <td>NaN</td>\n",
       "      <td>0</td>\n",
       "      <td>19-Sep</td>\n",
       "      <td>19-Sep</td>\n",
       "      <td>189</td>\n",
       "      <td>48</td>\n",
       "      <td>0</td>\n",
       "      <td>5</td>\n",
       "      <td>Don’t know where to start! Central Park is so ...</td>\n",
       "      <td>Best park in the world!!</td>\n",
       "      <td>Sian P</td>\n",
       "      <td>Southampton, United Kingdom</td>\n",
       "    </tr>\n",
       "    <tr>\n",
       "      <th>5984</th>\n",
       "      <td>NaN</td>\n",
       "      <td>0</td>\n",
       "      <td>19-Sep</td>\n",
       "      <td>19-Sep</td>\n",
       "      <td>2</td>\n",
       "      <td>0</td>\n",
       "      <td>0</td>\n",
       "      <td>5</td>\n",
       "      <td>No park compares to Central Park in NYC ... Yo...</td>\n",
       "      <td>A walk to remember ...</td>\n",
       "      <td>Jozefina</td>\n",
       "      <td>NaN</td>\n",
       "    </tr>\n",
       "  </tbody>\n",
       "</table>\n",
       "</div>"
      ],
      "text/plain": [
       "     Attraction City  Posted Visited User_Reviews  User_Helpful  \\\n",
       "5979        NaN    0  19-Sep  19-Sep          298            25   \n",
       "5981        NaN    0  19-Sep  19-Sep          282            85   \n",
       "5982        NaN    0  19-Sep  19-Sep          635           213   \n",
       "5983        NaN    0  19-Sep  19-Sep          189            48   \n",
       "5984        NaN    0  19-Sep  19-Sep            2             0   \n",
       "\n",
       "      Review_Helpful  Rating  \\\n",
       "5979               0       5   \n",
       "5981               1       5   \n",
       "5982               0       5   \n",
       "5983               0       5   \n",
       "5984               0       5   \n",
       "\n",
       "                                                   Text  \\\n",
       "5979  Genuinely peaceful and a great break away from...   \n",
       "5981  Lovely wander through the park. Little league ...   \n",
       "5982  On a nice day you can't go wrong with a visit ...   \n",
       "5983  Don’t know where to start! Central Park is so ...   \n",
       "5984  No park compares to Central Park in NYC ... Yo...   \n",
       "\n",
       "                                   Title          Username  \\\n",
       "5979  An Oasis in the middle of the city           Peter D   \n",
       "5981                      True New York       Pippasmum_12   \n",
       "5982                              lovely  steven_wilkinson   \n",
       "5983            Best park in the world!!            Sian P   \n",
       "5984              A walk to remember ...          Jozefina   \n",
       "\n",
       "                             User_Location  \n",
       "5979               Ledbury, United Kingdom  \n",
       "5981  Bournemouth, England, United Kingdom  \n",
       "5982      Bury St. Edmunds, United Kingdom  \n",
       "5983           Southampton, United Kingdom  \n",
       "5984                                   NaN  "
      ]
     },
     "execution_count": 21,
     "metadata": {},
     "output_type": "execute_result"
    }
   ],
   "source": [
    "tripadv[tripadv['City']=='0'].head()"
   ]
  },
  {
   "cell_type": "code",
   "execution_count": 22,
   "metadata": {
    "scrolled": true
   },
   "outputs": [],
   "source": [
    "tripadv=tripadv.drop(tripadv[(tripadv['City']=='0') | (tripadv['Attraction']=='The National 9/11 Memorial & Museum')].index)"
   ]
  },
  {
   "cell_type": "code",
   "execution_count": 23,
   "metadata": {},
   "outputs": [
    {
     "data": {
      "text/plain": [
       "Attraction        0\n",
       "City              0\n",
       "Posted            0\n",
       "Visited           0\n",
       "User_Reviews      0\n",
       "User_Helpful      0\n",
       "Review_Helpful    0\n",
       "Rating            0\n",
       "Text              0\n",
       "Title             0\n",
       "Username          0\n",
       "User_Location     0\n",
       "dtype: int64"
      ]
     },
     "execution_count": 23,
     "metadata": {},
     "output_type": "execute_result"
    }
   ],
   "source": [
    "# Confirming Removal of ESB and CP from original df\n",
    "\n",
    "tripadv[(tripadv['City']=='0') | (tripadv['Attraction']=='The National 9/11 Memorial & Museum')].count()"
   ]
  },
  {
   "cell_type": "code",
   "execution_count": 24,
   "metadata": {},
   "outputs": [
    {
     "data": {
      "text/plain": [
       "(38294, 12)"
      ]
     },
     "execution_count": 24,
     "metadata": {},
     "output_type": "execute_result"
    }
   ],
   "source": [
    "# concatenating the 2 dataframes to creat 1 dataframe and confirming number of rows\n",
    "\n",
    "frames = [tripadv, tripadv_ny_911_cp]\n",
    "tripadv = pd.concat(frames)\n",
    "tripadv.shape"
   ]
  },
  {
   "cell_type": "code",
   "execution_count": 25,
   "metadata": {},
   "outputs": [],
   "source": [
    "tripadv.to_csv('tripadvisor.csv', sep = ',', encoding='utf-8', index=False)"
   ]
  }
 ],
 "metadata": {
  "kernelspec": {
   "display_name": "Python 3",
   "language": "python",
   "name": "python3"
  },
  "language_info": {
   "codemirror_mode": {
    "name": "ipython",
    "version": 3
   },
   "file_extension": ".py",
   "mimetype": "text/x-python",
   "name": "python",
   "nbconvert_exporter": "python",
   "pygments_lexer": "ipython3",
   "version": "3.7.9"
  }
 },
 "nbformat": 4,
 "nbformat_minor": 4
}
